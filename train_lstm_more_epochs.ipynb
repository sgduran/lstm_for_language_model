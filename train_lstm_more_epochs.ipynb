{
 "cells": [
  {
   "cell_type": "code",
   "execution_count": 13,
   "metadata": {},
   "outputs": [],
   "source": [
    "import pickle\n",
    "import numpy as np\n",
    "from collections import Counter\n",
    "import pprint\n",
    "import copy\n",
    "import matplotlib.pyplot as plt\n",
    "from time import time\n",
    "\n",
    "import tensorflow as tf\n",
    "import keras\n",
    "\n",
    "from keras.preprocessing.text import Tokenizer\n",
    "from keras.callbacks import Callback, CSVLogger\n",
    "from tensorflow.keras.layers import Dense, Activation, Dropout, Input, LSTM, Reshape, Lambda, RepeatVector\n",
    "from tensorflow.keras.models import Model\n",
    "from tensorflow.keras.optimizers import Adam\n",
    "from tensorflow.keras.utils import to_categorical"
   ]
  },
  {
   "cell_type": "markdown",
   "metadata": {},
   "source": [
    "## Dataset (1): build vocab, get frequency of words and length of sentences"
   ]
  },
  {
   "cell_type": "code",
   "execution_count": 2,
   "metadata": {},
   "outputs": [],
   "source": [
    "with open('sentences_with_eos_and_unk.pkl', 'rb') as f:\n",
    "    sentences, counter = pickle.load(f)"
   ]
  },
  {
   "cell_type": "code",
   "execution_count": 3,
   "metadata": {},
   "outputs": [],
   "source": [
    "with open('sentences_train_test.pkl', 'rb') as f:\n",
    "    sentences_train, sentences_test, counter = pickle.load(f)"
   ]
  },
  {
   "cell_type": "code",
   "execution_count": 4,
   "metadata": {},
   "outputs": [
    {
     "name": "stdout",
     "output_type": "stream",
     "text": [
      "There are 7274 unique words in our dataset.\n",
      "There are 3380789 total words in our dataset.\n"
     ]
    }
   ],
   "source": [
    "# Build vocab\n",
    "vocab = sorted(counter.keys())\n",
    "vocab_size = len(vocab)\n",
    "print('There are %d unique words in our dataset.' % vocab_size)\n",
    "num_of_words = sum(counter.values())\n",
    "print('There are %d total words in our dataset.' % num_of_words)\n",
    "\n",
    "# Hash table for words to indices and viceversa\n",
    "# I don't use index 0 because it's used for padding the sequences\n",
    "word_to_ix = { w:i+1 for i,w in enumerate(vocab) }\n",
    "word_to_ix['<blank>'] = 0\n",
    "ix_to_word = { i+1:w for i,w in enumerate(vocab) }\n",
    "ix_to_word[0] = ''"
   ]
  },
  {
   "cell_type": "code",
   "execution_count": 5,
   "metadata": {},
   "outputs": [],
   "source": [
    "# Get frequency of words\n",
    "word_freq = np.zeros(vocab_size+1)\n",
    "norm_constant = num_of_words\n",
    "for i,key in enumerate(vocab):\n",
    "    word_freq[i+1] = counter[key] / norm_constant\n",
    "    \n",
    "# Get frequency of first words\n",
    "first_word_freq = np.zeros(vocab_size+1)\n",
    "norm_constant = len(sentences)\n",
    "for i,sentence in enumerate(sentences):\n",
    "    first_word_freq[ word_to_ix[sentence.lower().split()[0]] ] += 1\n",
    "first_word_freq /= len(sentences)"
   ]
  },
  {
   "cell_type": "code",
   "execution_count": 6,
   "metadata": {},
   "outputs": [
    {
     "name": "stdout",
     "output_type": "stream",
     "text": [
      "3.58 % of the sentences have more than 30 words.\n"
     ]
    }
   ],
   "source": [
    "# Short analysis of length of sentences\n",
    "n = 30\n",
    "count_less_than_n_words = 0\n",
    "maxLen = 0\n",
    "counter_length = Counter([])\n",
    "for sentence in sentences:\n",
    "    counter_length += Counter([len(sentence.lower().split())])\n",
    "    maxLen = max(maxLen,len(sentence.lower().split()))\n",
    "    if len(sentence.lower().split()) >= n:\n",
    "        count_less_than_n_words += 1\n",
    "\n",
    "proportion =  (count_less_than_n_words / len(sentences)) * 100\n",
    "        \n",
    "print('%.2f %% of the sentences have more than %d words.' % (proportion,n)  )"
   ]
  },
  {
   "cell_type": "markdown",
   "metadata": {},
   "source": [
    "## Dataset (2): split train-trest, one-hot vectors, generator"
   ]
  },
  {
   "cell_type": "code",
   "execution_count": 7,
   "metadata": {},
   "outputs": [],
   "source": [
    "def shuffle_and_split_training_set(sentences_original, percentage_test=2):\n",
    "    # shuffle at unison\n",
    "    print('Shuffling sentences')\n",
    "\n",
    "    tmp_sentences = []\n",
    "    for i in np.random.RandomState(seed=0).permutation(len(sentences_original)):\n",
    "        tmp_sentences.append(sentences_original[i])\n",
    "\n",
    "    cut_index = int(len(sentences_original) * (1.-(percentage_test/100.)))\n",
    "    x_train, x_test = tmp_sentences[:cut_index], tmp_sentences[cut_index:]\n",
    "\n",
    "    print(\"Size of training set = %d\" % len(x_train))\n",
    "    print(\"Size of test set = %d\" % len(x_test))\n",
    "    return x_train, x_test"
   ]
  },
  {
   "cell_type": "code",
   "execution_count": 8,
   "metadata": {},
   "outputs": [
    {
     "data": {
      "text/plain": [
       "['Put the clips part  part and part of the loom knoop hardness test value   channel B part  the loom HB2   channel B part and the No 2 starboard igniter lead part with the bolt part and the spacers part and part in position on the oil tube part and loosely install the nut part  <eos>',\n",
       " 'Put the clips part  part  part and part of the air tube part  the fuel tube part  the fuel tube part and the loom database part with the spacers part  part and part and the bolt part in position on the nut part attached to the bracket part  and loosely install the bolt part  <eos>',\n",
       " 'Make sure that the ignition lever part of the door damper part and the emergency opening actuator part is in the ARMED position  <eos>',\n",
       " 'You can use these pressurization sources as an alternative  or   <eos>',\n",
       " 'Disconnect the electrical connectors from the 115VAC EPDC2 temporary revision 1422XZ and the 230VAC EPDC2 temporary revision 1424XZ in module 2H   <eos>',\n",
       " 'Alodine 1500 mil <unk> <unk> <eos>',\n",
       " 'The transducer part <eos>',\n",
       " 'Remove the nuts part from the bolts part  <eos>',\n",
       " 'For the steps that follow the POLISHING KIT   MICRO MESH is necessary  <eos>',\n",
       " 'Loosen the nuts part of all the support struts part  <eos>',\n",
       " 'The Yellow left outboard aileron servocontrol  <eos>',\n",
       " 'The applicable lavatory occupied signs are removed   <eos>',\n",
       " 'Put the seals part in position on the left ottoman section part  the right ottoman section part and the upper coat stowage section part  <eos>',\n",
       " 'In the Status column wait for the status of the related content inventory list to show Load Complete   <eos>',\n",
       " 'Remove the nut part and the bolt part attached to the tube part  <eos>',\n",
       " 'Make sure that flap torque shaft assembly 5027CV part is removed   <eos>',\n",
       " 'It is possible to restore the avionics server function cabinet with the group 1 and amperes per square foot software components    only and then dispatch the aircraft under Master Minimum Equipment List MMEL condition <eos>',\n",
       " 'Bulk cargo compartment  <eos>',\n",
       " 'Re prime the center tank pumps   <eos>',\n",
       " 'If there is galling accept the upper interservices fairing  <eos>']"
      ]
     },
     "execution_count": 8,
     "metadata": {},
     "output_type": "execute_result"
    }
   ],
   "source": [
    "sentences_test[:20]"
   ]
  },
  {
   "cell_type": "markdown",
   "metadata": {},
   "source": [
    "When transforming to indices, we clean up: we use .lower().split()"
   ]
  },
  {
   "cell_type": "code",
   "execution_count": 9,
   "metadata": {},
   "outputs": [],
   "source": [
    "def sentences_to_indices(X, word_to_ix, max_len):\n",
    "    \"\"\"\n",
    "    Converts an array of sentences (strings) into an array of indices corresponding to words in the sentences.\n",
    "    The output shape should be such that it can be given to `Embedding()` (described in Figure 4). \n",
    "    \n",
    "    Arguments:\n",
    "    X -- array of sentences (strings), of shape (m, 1)\n",
    "    word_to_index -- a dictionary containing the each word mapped to its index\n",
    "    max_len -- maximum number of words in a sentence. You can assume every sentence in X is no longer than this. \n",
    "    \n",
    "    Returns:\n",
    "    X_indices -- array of indices corresponding to words in the sentences from X, of shape (m, max_len)\n",
    "    \"\"\"\n",
    "    \n",
    "    m = X.shape[0]                                   # number of training examples\n",
    "    \n",
    "    ### START CODE HERE ###\n",
    "    # Initialize X_indices as a numpy matrix of zeros and the correct shape (≈ 1 line)\n",
    "    X_indices = np.zeros( (m, max_len) )\n",
    "    \n",
    "    for i in range(m):                               # loop over training examples\n",
    "        \n",
    "        # Convert the ith training sentence in lower case and split is into words. You should get a list of words.\n",
    "        sentence_words = X[i].lower().split()\n",
    "        # We truncate sentence_words at max_len\n",
    "        sentence_words = sentence_words[:max_len]\n",
    "        \n",
    "        # Initialize j to 0\n",
    "        j = 0\n",
    "        \n",
    "        # Loop over the words of sentence_words\n",
    "\n",
    "        for w in sentence_words:\n",
    "            # if w exists in the word_to_index dictionary\n",
    "            if w in word_to_ix:\n",
    "                # Set the (i,j)th entry of X_indices to the index of the correct word.\n",
    "                X_indices[i, j] = word_to_ix[w]\n",
    "                # Increment j to j + 1\n",
    "                j += 1\n",
    "            \n",
    "    ### END CODE HERE ###\n",
    "    \n",
    "    return X_indices\n",
    "\n",
    "def convert_to_one_hot(X_indices, C):\n",
    "    \"\"\"\n",
    "    Arguments:\n",
    "    X_indices -- array of indices corresponding to words in the sentences from X, of shape (m, max_len)\n",
    "    C -- size of one-hot vectors -1 place for 1 word in vocabulary, plus blank space-\n",
    "    \n",
    "    Returns:\n",
    "    X_oh -- array of one-hot vectors corresponding to words in the sentences from X, of shape (m, max_len, C)\n",
    "    \"\"\"\n",
    "    X_oh = np.eye(C)[X_indices]\n",
    "    return X_oh\n",
    "\n",
    "def generator(sentence_list, batch_size):\n",
    "    index = 0\n",
    "    while True:\n",
    "        X_oh = np.zeros((batch_size, Tx, len(vocab)+1))\n",
    "        Y_oh = np.zeros((batch_size, Tx, len(vocab)+1))\n",
    "        \n",
    "        for i in range(batch_size):\n",
    "            \n",
    "            # One sentences at a time\n",
    "            x_indices = sentences_to_indices(np.asarray(sentence_list[index:index+1]), word_to_ix, Tx)\n",
    "            X_oh[i,:,:] = convert_to_one_hot(x_indices.astype(int), C = len(vocab)+1)\n",
    "        \n",
    "            y_indices = np.zeros(np.shape(x_indices))\n",
    "            y_indices[:,0:Tx-1] = x_indices[:,1:Tx]\n",
    "            Y_oh[i,:,:] = convert_to_one_hot(y_indices.astype(int), C = len(vocab)+1)\n",
    "            \n",
    "            #for t, w in enumerate(sentence_list[index]):\n",
    "            #    x[i, t, word_indices[w]] = 1\n",
    "            #y[i, word_indices[next_word_list[index]]] = 1\n",
    "\n",
    "            index = index + 1\n",
    "            if index == len(sentence_list):\n",
    "                index = 0\n",
    "                \n",
    "        Y_oh = np.transpose(Y_oh, (1, 0, 2))\n",
    "        \n",
    "        a0 = np.zeros((batch_size, n_a))\n",
    "        c0 = np.zeros((batch_size, n_a))\n",
    "        model_input = [X_oh, a0, c0]\n",
    "        #print(np.shape(model_input))\n",
    "        #print(np.shape(X_oh), np.shape(a0), np.shape(c0), np.shape(Y_oh))\n",
    "        \n",
    "        yield model_input, list(Y_oh)"
   ]
  },
  {
   "cell_type": "markdown",
   "metadata": {},
   "source": [
    "## Define Model, optimizer, loss and metrics"
   ]
  },
  {
   "cell_type": "markdown",
   "metadata": {},
   "source": [
    "#### Sequence generation uses a for-loop\n",
    "* If we're building an RNN where, at test time, the entire input sequence $x^{\\langle 1 \\rangle}, x^{\\langle 2 \\rangle}, \\ldots, x^{\\langle T_x \\rangle}$ is given in advance, then Keras has simple built-in functions to build the model. \n",
    "* However, for **sequence generation, at test time we won't know all the values of $x^{\\langle t\\rangle}$ in advance**.\n",
    "* Instead, we'll generate them one at a time using $x^{\\langle t\\rangle} = y^{\\langle t-1 \\rangle}$. \n",
    "    * The input at time \"t\" is the prediction at the previous time step \"t-1\".\n",
    "* So we'll need to implement our own for-loop to iterate over the time steps. "
   ]
  },
  {
   "cell_type": "code",
   "execution_count": 10,
   "metadata": {},
   "outputs": [],
   "source": [
    "# Model hyperparameters\n",
    "n_a = 128 # number of dimensions for the hidden state of each LSTM cell.\n",
    "n_values = len(vocab) + 1 # Dimension of inputs one-hot encoded: number of words and the blank space.\n",
    "Tx = 30 # max len of sequences, already defined above"
   ]
  },
  {
   "cell_type": "code",
   "execution_count": 11,
   "metadata": {},
   "outputs": [],
   "source": [
    "# Define layers\n",
    "reshaper = Reshape((1, n_values))                  # Used in Step 2.B of model(), below\n",
    "LSTM_cell = LSTM(n_a, return_state = True)         # Used in Step 2.C\n",
    "densor = Dense(n_values, activation='softmax')     # Used in Step 2.D"
   ]
  },
  {
   "cell_type": "markdown",
   "metadata": {},
   "source": [
    "## Train model"
   ]
  },
  {
   "cell_type": "code",
   "execution_count": 14,
   "metadata": {},
   "outputs": [],
   "source": [
    "reconstructed_model = keras.models.load_model(\"trained_model\")"
   ]
  },
  {
   "cell_type": "code",
   "execution_count": 15,
   "metadata": {},
   "outputs": [],
   "source": [
    "# Define callbacks\n",
    "\n",
    "class LossHistoryPerBatch(Callback):\n",
    "    def on_train_begin(self, logs={}):\n",
    "        self.losses = []\n",
    "        self.val_losses = []\n",
    "\n",
    "    def on_batch_end(self, batch, logs={}):\n",
    "        self.losses.append(logs.get('loss'))\n",
    "        self.val_losses.append(logs.get('val_loss'))\n",
    "\n",
    "# Does not work very well\n",
    "class NBatchLogger(Callback):\n",
    "    def __init__(self,display=50):\n",
    "        '''\n",
    "        display: Number of batches to wait before outputting loss\n",
    "        '''\n",
    "        self.seen = 0\n",
    "        self.display = display\n",
    "        \n",
    "    def on_batch_end(self, batch, logs={}):\n",
    "        # Logs does not have size key. Then 'seen' variable is not useful\n",
    "        self.seen += logs.get('size', 0)\n",
    "        print('\\n', logs.get('size',0), self.seen, self.display)\n",
    "        if self.seen % self.display == 0:\n",
    "            print('\\n {}/{} - Batch loss: {} \\n'.format(self.seen,self.params['steps'],logs.get('loss')) )\n",
    "\n",
    "csv_logger = CSVLogger('log.csv', append=True, separator=';')\n",
    "\n",
    "out_batch = LossHistoryPerBatch()\n",
    "\n",
    "checkpoint_filepath = './tmp/checkpoint'\n",
    "model_checkpoint_callback = tf.keras.callbacks.ModelCheckpoint(\n",
    "    filepath=checkpoint_filepath,\n",
    "    save_weights_only=False,\n",
    "    monitor='val_loss',\n",
    "    mode='max',\n",
    "    save_best_only=True)"
   ]
  },
  {
   "cell_type": "code",
   "execution_count": 20,
   "metadata": {},
   "outputs": [],
   "source": [
    "BATCH_SIZE = 64\n",
    "EPOCHS = 2"
   ]
  },
  {
   "cell_type": "code",
   "execution_count": 21,
   "metadata": {
    "scrolled": true
   },
   "outputs": [
    {
     "name": "stdout",
     "output_type": "stream",
     "text": [
      "Epoch 1/2\n",
      "3467/3467 [==============================] - 8858s 3s/step - loss: 36.5862 - dense_loss: 1.9382 - dense_1_loss: 3.9980 - dense_2_loss: 2.5910 - dense_3_loss: 2.6315 - dense_4_loss: 2.4480 - dense_5_loss: 2.4990 - dense_6_loss: 2.4067 - dense_7_loss: 2.2264 - dense_8_loss: 2.0505 - dense_9_loss: 1.8521 - dense_10_loss: 1.6899 - dense_11_loss: 1.5049 - dense_12_loss: 1.3227 - dense_13_loss: 1.1713 - dense_14_loss: 1.0169 - dense_15_loss: 0.8824 - dense_16_loss: 0.7535 - dense_17_loss: 0.6481 - dense_18_loss: 0.5415 - dense_19_loss: 0.4605 - dense_20_loss: 0.3793 - dense_21_loss: 0.3189 - dense_22_loss: 0.2665 - dense_23_loss: 0.2190 - dense_24_loss: 0.1847 - dense_25_loss: 0.1514 - dense_26_loss: 0.1287 - dense_27_loss: 0.1087 - dense_28_loss: 0.0920 - dense_29_loss: 0.1039 - dense_accuracy: 0.6539 - dense_1_accuracy: 0.3299 - dense_2_accuracy: 0.5244 - dense_3_accuracy: 0.5153 - dense_4_accuracy: 0.5342 - dense_5_accuracy: 0.5333 - dense_6_accuracy: 0.5468 - dense_7_accuracy: 0.5793 - dense_8_accuracy: 0.6127 - dense_9_accuracy: 0.6480 - dense_10_accuracy: 0.6787 - dense_11_accuracy: 0.7134 - dense_12_accuracy: 0.7482 - dense_13_accuracy: 0.7774 - dense_14_accuracy: 0.8076 - dense_15_accuracy: 0.8328 - dense_16_accuracy: 0.8572 - dense_17_accuracy: 0.8773 - dense_18_accuracy: 0.8976 - dense_19_accuracy: 0.9140 - dense_20_accuracy: 0.9285 - dense_21_accuracy: 0.9398 - dense_22_accuracy: 0.9497 - dense_23_accuracy: 0.9589 - dense_24_accuracy: 0.9658 - dense_25_accuracy: 0.9717 - dense_26_accuracy: 0.9759 - dense_27_accuracy: 0.9798 - dense_28_accuracy: 0.9832 - dense_29_accuracy: 0.9738 - val_loss: 37.4165 - val_dense_loss: 2.0272 - val_dense_1_loss: 4.0150 - val_dense_2_loss: 2.5675 - val_dense_3_loss: 2.6606 - val_dense_4_loss: 2.5403 - val_dense_5_loss: 2.4699 - val_dense_6_loss: 2.4750 - val_dense_7_loss: 2.2869 - val_dense_8_loss: 2.0664 - val_dense_9_loss: 1.9004 - val_dense_10_loss: 1.7593 - val_dense_11_loss: 1.5760 - val_dense_12_loss: 1.3886 - val_dense_13_loss: 1.2269 - val_dense_14_loss: 1.0551 - val_dense_15_loss: 0.8917 - val_dense_16_loss: 0.7964 - val_dense_17_loss: 0.6435 - val_dense_18_loss: 0.6073 - val_dense_19_loss: 0.4807 - val_dense_20_loss: 0.4008 - val_dense_21_loss: 0.3251 - val_dense_22_loss: 0.2854 - val_dense_23_loss: 0.2000 - val_dense_24_loss: 0.2011 - val_dense_25_loss: 0.1560 - val_dense_26_loss: 0.1203 - val_dense_27_loss: 0.1079 - val_dense_28_loss: 0.0862 - val_dense_29_loss: 0.0988 - val_dense_accuracy: 0.6389 - val_dense_1_accuracy: 0.3299 - val_dense_2_accuracy: 0.5339 - val_dense_3_accuracy: 0.5097 - val_dense_4_accuracy: 0.5095 - val_dense_5_accuracy: 0.5420 - val_dense_6_accuracy: 0.5425 - val_dense_7_accuracy: 0.5770 - val_dense_8_accuracy: 0.6114 - val_dense_9_accuracy: 0.6404 - val_dense_10_accuracy: 0.6721 - val_dense_11_accuracy: 0.7044 - val_dense_12_accuracy: 0.7421 - val_dense_13_accuracy: 0.7724 - val_dense_14_accuracy: 0.8013 - val_dense_15_accuracy: 0.8330 - val_dense_16_accuracy: 0.8486 - val_dense_17_accuracy: 0.8754 - val_dense_18_accuracy: 0.8845 - val_dense_19_accuracy: 0.9111 - val_dense_20_accuracy: 0.9274 - val_dense_21_accuracy: 0.9384 - val_dense_22_accuracy: 0.9430 - val_dense_23_accuracy: 0.9604 - val_dense_24_accuracy: 0.9652 - val_dense_25_accuracy: 0.9714 - val_dense_26_accuracy: 0.9780 - val_dense_27_accuracy: 0.9782 - val_dense_28_accuracy: 0.9837 - val_dense_29_accuracy: 0.9760\n",
      "Epoch 2/2\n",
      "3467/3467 [==============================] - 8823s 3s/step - loss: 35.7236 - dense_loss: 1.9224 - dense_1_loss: 3.9568 - dense_2_loss: 2.5268 - dense_3_loss: 2.5727 - dense_4_loss: 2.3892 - dense_5_loss: 2.4404 - dense_6_loss: 2.3467 - dense_7_loss: 2.1680 - dense_8_loss: 1.9957 - dense_9_loss: 1.8021 - dense_10_loss: 1.6442 - dense_11_loss: 1.4640 - dense_12_loss: 1.2863 - dense_13_loss: 1.1386 - dense_14_loss: 0.9881 - dense_15_loss: 0.8571 - dense_16_loss: 0.7312 - dense_17_loss: 0.6288 - dense_18_loss: 0.5253 - dense_19_loss: 0.4465 - dense_20_loss: 0.3679 - dense_21_loss: 0.3089 - dense_22_loss: 0.2581 - dense_23_loss: 0.2121 - dense_24_loss: 0.1793 - dense_25_loss: 0.1469 - dense_26_loss: 0.1251 - dense_27_loss: 0.1059 - dense_28_loss: 0.0900 - dense_29_loss: 0.0984 - dense_accuracy: 0.6554 - dense_1_accuracy: 0.3330 - dense_2_accuracy: 0.5319 - dense_3_accuracy: 0.5219 - dense_4_accuracy: 0.5408 - dense_5_accuracy: 0.5397 - dense_6_accuracy: 0.5540 - dense_7_accuracy: 0.5862 - dense_8_accuracy: 0.6189 - dense_9_accuracy: 0.6540 - dense_10_accuracy: 0.6849 - dense_11_accuracy: 0.7185 - dense_12_accuracy: 0.7528 - dense_13_accuracy: 0.7816 - dense_14_accuracy: 0.8113 - dense_15_accuracy: 0.8357 - dense_16_accuracy: 0.8602 - dense_17_accuracy: 0.8800 - dense_18_accuracy: 0.8995 - dense_19_accuracy: 0.9155 - dense_20_accuracy: 0.9299 - dense_21_accuracy: 0.9410 - dense_22_accuracy: 0.9508 - dense_23_accuracy: 0.9598 - dense_24_accuracy: 0.9663 - dense_25_accuracy: 0.9724 - dense_26_accuracy: 0.9764 - dense_27_accuracy: 0.9801 - dense_28_accuracy: 0.9834 - dense_29_accuracy: 0.9745 - val_loss: 36.8535 - val_dense_loss: 2.0097 - val_dense_1_loss: 3.9890 - val_dense_2_loss: 2.5242 - val_dense_3_loss: 2.6225 - val_dense_4_loss: 2.5036 - val_dense_5_loss: 2.4342 - val_dense_6_loss: 2.4358 - val_dense_7_loss: 2.2537 - val_dense_8_loss: 2.0336 - val_dense_9_loss: 1.8753 - val_dense_10_loss: 1.7299 - val_dense_11_loss: 1.5521 - val_dense_12_loss: 1.3622 - val_dense_13_loss: 1.2011 - val_dense_14_loss: 1.0329 - val_dense_15_loss: 0.8721 - val_dense_16_loss: 0.7789 - val_dense_17_loss: 0.6265 - val_dense_18_loss: 0.5999 - val_dense_19_loss: 0.4704 - val_dense_20_loss: 0.3916 - val_dense_21_loss: 0.3179 - val_dense_22_loss: 0.2806 - val_dense_23_loss: 0.1986 - val_dense_24_loss: 0.1984 - val_dense_25_loss: 0.1532 - val_dense_26_loss: 0.1176 - val_dense_27_loss: 0.1056 - val_dense_28_loss: 0.0847 - val_dense_29_loss: 0.0977 - val_dense_accuracy: 0.6415 - val_dense_1_accuracy: 0.3301 - val_dense_2_accuracy: 0.5372 - val_dense_3_accuracy: 0.5139 - val_dense_4_accuracy: 0.5141 - val_dense_5_accuracy: 0.5449 - val_dense_6_accuracy: 0.5456 - val_dense_7_accuracy: 0.5810 - val_dense_8_accuracy: 0.6133 - val_dense_9_accuracy: 0.6428 - val_dense_10_accuracy: 0.6791 - val_dense_11_accuracy: 0.7088 - val_dense_12_accuracy: 0.7458 - val_dense_13_accuracy: 0.7760 - val_dense_14_accuracy: 0.8052 - val_dense_15_accuracy: 0.8356 - val_dense_16_accuracy: 0.8519 - val_dense_17_accuracy: 0.8770 - val_dense_18_accuracy: 0.8851 - val_dense_19_accuracy: 0.9118 - val_dense_20_accuracy: 0.9296 - val_dense_21_accuracy: 0.9393 - val_dense_22_accuracy: 0.9432 - val_dense_23_accuracy: 0.9610 - val_dense_24_accuracy: 0.9654 - val_dense_25_accuracy: 0.9723 - val_dense_26_accuracy: 0.9784 - val_dense_27_accuracy: 0.9791 - val_dense_28_accuracy: 0.9835 - val_dense_29_accuracy: 0.9762\n",
      "\n",
      " Time for training the model: 294.72 mins\n"
     ]
    }
   ],
   "source": [
    "t = time() \n",
    "\n",
    "history = reconstructed_model.fit( generator(sentences_train, batch_size = BATCH_SIZE), \n",
    "                    steps_per_epoch = int(len(sentences_train)/BATCH_SIZE) + 1,\n",
    "                    epochs = EPOCHS,\n",
    "                    validation_data = generator(sentences_test, batch_size = BATCH_SIZE),\n",
    "                    validation_steps = int(len(sentences_test)/BATCH_SIZE) + 1,\n",
    "                    callbacks = [csv_logger, out_batch], #callbacks = [model_checkpoint_callback, csv_logger, out_batch],\n",
    "                    verbose = 1)\n",
    "\n",
    "print('\\n Time for training the model: {} mins'.format(round((time() - t) / 60, 2)))"
   ]
  },
  {
   "cell_type": "code",
   "execution_count": null,
   "metadata": {},
   "outputs": [],
   "source": [
    "# Goal: 500k sentences, for 100 epochs\n",
    "# With Mini batch of 64:\n",
    "# 0.37 mins for 1 epoch for 500 --> 25 days\n",
    "# 2.98 mins for 1 epoch for 5k --> 21 days\n",
    "# 35.83 mins for 5 epochs for 10k\n",
    "\n",
    "# With Mini batch of 128:\n",
    "# 0.39 mins for 1 epoch for 500 --> 25 days\n",
    "# 3.15mins mins for 1 epoch for 5k --> 22 days\n",
    "\n",
    "# With Mini batch of 256: Out of memory."
   ]
  },
  {
   "cell_type": "code",
   "execution_count": 31,
   "metadata": {},
   "outputs": [
    {
     "name": "stdout",
     "output_type": "stream",
     "text": [
      "loss at epoch 1: 0.5338908433914185\n",
      "loss at epoch 5: 0.5338908433914185\n",
      "loss at epoch 10: 0.5371919274330139\n"
     ]
    },
    {
     "data": {
      "text/plain": [
       "[<matplotlib.lines.Line2D at 0x249e239c8c8>]"
      ]
     },
     "execution_count": 31,
     "metadata": {},
     "output_type": "execute_result"
    },
    {
     "data": {
      "image/png": "[encoded data removed]",
      "text/plain": [
       "<Figure size 432x288 with 1 Axes>"
      ]
     },
     "metadata": {
      "needs_background": "light"
     },
     "output_type": "display_data"
    }
   ],
   "source": [
    "# Plot loss\n",
    "print(f\"loss at epoch 1: {history.history['val_dense_2_accuracy'][0]}\")\n",
    "print(f\"loss at epoch 5: {history.history['val_dense_2_accuracy'][EPOCHS-2]}\")\n",
    "print(f\"loss at epoch 10: {history.history['val_dense_2_accuracy'][EPOCHS-1]}\")\n",
    "plt.plot(history.history['val_dense_10_accuracy'])"
   ]
  },
  {
   "cell_type": "code",
   "execution_count": 23,
   "metadata": {},
   "outputs": [
    {
     "data": {
      "text/plain": [
       "dict_keys(['loss', 'dense_loss', 'dense_1_loss', 'dense_2_loss', 'dense_3_loss', 'dense_4_loss', 'dense_5_loss', 'dense_6_loss', 'dense_7_loss', 'dense_8_loss', 'dense_9_loss', 'dense_10_loss', 'dense_11_loss', 'dense_12_loss', 'dense_13_loss', 'dense_14_loss', 'dense_15_loss', 'dense_16_loss', 'dense_17_loss', 'dense_18_loss', 'dense_19_loss', 'dense_20_loss', 'dense_21_loss', 'dense_22_loss', 'dense_23_loss', 'dense_24_loss', 'dense_25_loss', 'dense_26_loss', 'dense_27_loss', 'dense_28_loss', 'dense_29_loss', 'dense_accuracy', 'dense_1_accuracy', 'dense_2_accuracy', 'dense_3_accuracy', 'dense_4_accuracy', 'dense_5_accuracy', 'dense_6_accuracy', 'dense_7_accuracy', 'dense_8_accuracy', 'dense_9_accuracy', 'dense_10_accuracy', 'dense_11_accuracy', 'dense_12_accuracy', 'dense_13_accuracy', 'dense_14_accuracy', 'dense_15_accuracy', 'dense_16_accuracy', 'dense_17_accuracy', 'dense_18_accuracy', 'dense_19_accuracy', 'dense_20_accuracy', 'dense_21_accuracy', 'dense_22_accuracy', 'dense_23_accuracy', 'dense_24_accuracy', 'dense_25_accuracy', 'dense_26_accuracy', 'dense_27_accuracy', 'dense_28_accuracy', 'dense_29_accuracy', 'val_loss', 'val_dense_loss', 'val_dense_1_loss', 'val_dense_2_loss', 'val_dense_3_loss', 'val_dense_4_loss', 'val_dense_5_loss', 'val_dense_6_loss', 'val_dense_7_loss', 'val_dense_8_loss', 'val_dense_9_loss', 'val_dense_10_loss', 'val_dense_11_loss', 'val_dense_12_loss', 'val_dense_13_loss', 'val_dense_14_loss', 'val_dense_15_loss', 'val_dense_16_loss', 'val_dense_17_loss', 'val_dense_18_loss', 'val_dense_19_loss', 'val_dense_20_loss', 'val_dense_21_loss', 'val_dense_22_loss', 'val_dense_23_loss', 'val_dense_24_loss', 'val_dense_25_loss', 'val_dense_26_loss', 'val_dense_27_loss', 'val_dense_28_loss', 'val_dense_29_loss', 'val_dense_accuracy', 'val_dense_1_accuracy', 'val_dense_2_accuracy', 'val_dense_3_accuracy', 'val_dense_4_accuracy', 'val_dense_5_accuracy', 'val_dense_6_accuracy', 'val_dense_7_accuracy', 'val_dense_8_accuracy', 'val_dense_9_accuracy', 'val_dense_10_accuracy', 'val_dense_11_accuracy', 'val_dense_12_accuracy', 'val_dense_13_accuracy', 'val_dense_14_accuracy', 'val_dense_15_accuracy', 'val_dense_16_accuracy', 'val_dense_17_accuracy', 'val_dense_18_accuracy', 'val_dense_19_accuracy', 'val_dense_20_accuracy', 'val_dense_21_accuracy', 'val_dense_22_accuracy', 'val_dense_23_accuracy', 'val_dense_24_accuracy', 'val_dense_25_accuracy', 'val_dense_26_accuracy', 'val_dense_27_accuracy', 'val_dense_28_accuracy', 'val_dense_29_accuracy'])"
      ]
     },
     "execution_count": 23,
     "metadata": {},
     "output_type": "execute_result"
    }
   ],
   "source": [
    "history.history.keys()"
   ]
  },
  {
   "cell_type": "code",
   "execution_count": null,
   "metadata": {},
   "outputs": [],
   "source": [
    "# Save model and weights\n",
    "reconstructed_model.save('trained_model')\n",
    "reconstructed_model.save_weights(\"trained_weights\")"
   ]
  },
  {
   "cell_type": "code",
   "execution_count": null,
   "metadata": {},
   "outputs": [],
   "source": [
    "with open('./trained_model/trainHistoryDict.pkl', 'wb') as file_pi:\n",
    "    pickle.dump(history.history, file_pi)"
   ]
  },
  {
   "cell_type": "markdown",
   "metadata": {},
   "source": [
    "## Sampling Model 1: does not use probability"
   ]
  },
  {
   "cell_type": "markdown",
   "metadata": {},
   "source": [
    "We first define a model that uses each step prediction as the input for next step"
   ]
  },
  {
   "cell_type": "code",
   "execution_count": null,
   "metadata": {},
   "outputs": [],
   "source": [
    "def sentence_inference_model1(LSTM_cell, densor, Ty=30):\n",
    "    \"\"\"\n",
    "    Uses the trained \"LSTM_cell\" and \"densor\" from model() to generate a sequence of values.\n",
    "    \n",
    "    Arguments:\n",
    "    LSTM_cell -- the trained \"LSTM_cell\" from model(), Keras layer object\n",
    "    densor -- the trained \"densor\" from model(), Keras layer object\n",
    "    Ty -- integer, number of time steps to generate\n",
    "    \n",
    "    Returns:\n",
    "    inference_model -- Keras model instance\n",
    "    \"\"\"\n",
    "    \n",
    "    # Get the shape of input values\n",
    "    n_values = densor.units\n",
    "    # Get the number of the hidden state vector\n",
    "    n_a = LSTM_cell.units\n",
    "    \n",
    "    # Define the input of your model with a shape \n",
    "    x0 = Input(shape=(1, n_values))\n",
    "    \n",
    "    # Define s0, initial hidden state for the decoder LSTM\n",
    "    a0 = Input(shape=(n_a,), name='a0')\n",
    "    c0 = Input(shape=(n_a,), name='c0')\n",
    "    a = a0\n",
    "    c = c0\n",
    "    x = x0\n",
    "\n",
    "    ### START CODE HERE ###\n",
    "    # Step 1: Create an empty list of \"outputs\" to later store your predicted values (≈1 line)\n",
    "    outputs = []\n",
    "    \n",
    "    # Step 2: Loop over Ty and generate a value at every time step\n",
    "    for t in range(Ty):\n",
    "        # Step 2.A: Perform one step of LSTM_cell. Use \"x\", not \"x0\" (≈1 line)\n",
    "        a, _, c = LSTM_cell(x, initial_state=[a,c])\n",
    "        \n",
    "        # Step 2.B: Apply Dense layer to the hidden state output of the LSTM_cell (≈1 line)\n",
    "        out = densor(a)\n",
    "        # Step 2.C: Append the prediction \"out\" to \"outputs\". out.shape = (None, n_values) (≈1 line)\n",
    "        outputs.append(out)\n",
    " \n",
    "        # Step 2.D: \n",
    "        # Select the next value according to \"out\",\n",
    "        # Set \"x\" to be the one-hot representation of the selected value\n",
    "        # See instructions above.\n",
    "        x = tf.math.argmax(out, axis=-1)\n",
    "        x = tf.one_hot(x,n_values)\n",
    "        # Step 2.E: \n",
    "        # Use RepeatVector(1) to convert x into a tensor with shape=(None, 1, n_values)\n",
    "        x = RepeatVector(1)(x)\n",
    "        \n",
    "    # Step 3: Create model instance with the correct \"inputs\" and \"outputs\" (≈1 line)\n",
    "    inference_model = Model(inputs=[x0,a0,c0], outputs=outputs)\n",
    "    \n",
    "    ### END CODE HERE ###\n",
    "    \n",
    "    return inference_model"
   ]
  },
  {
   "cell_type": "code",
   "execution_count": null,
   "metadata": {},
   "outputs": [],
   "source": [
    "inference_model1 = sentence_inference_model1(LSTM_cell, densor, Ty = 30)"
   ]
  },
  {
   "cell_type": "code",
   "execution_count": null,
   "metadata": {},
   "outputs": [],
   "source": [
    "inference_model1.summary()"
   ]
  },
  {
   "cell_type": "code",
   "execution_count": null,
   "metadata": {},
   "outputs": [],
   "source": [
    "for layer in inference_model1.layers: print(layer.get_config(), layer.get_weights())"
   ]
  },
  {
   "cell_type": "markdown",
   "metadata": {},
   "source": [
    "We use previous model to sample ('predict') a sequence"
   ]
  },
  {
   "cell_type": "code",
   "execution_count": null,
   "metadata": {},
   "outputs": [],
   "source": [
    "def predict_and_sample1(inference_model1, x_initializer = x_initializer, a_initializer = a_initializer, \n",
    "                       c_initializer = c_initializer):\n",
    "    \"\"\"\n",
    "    Predicts the next value of values using the inference model.\n",
    "    \n",
    "    Arguments:\n",
    "    inference_model -- Keras model instance for inference time\n",
    "    x_initializer -- numpy array of shape (1, 1, n_values), one-hot vector initializing the values generation\n",
    "    a_initializer -- numpy array of shape (1, n_a), initializing the hidden state of the LSTM_cell\n",
    "    c_initializer -- numpy array of shape (1, n_a), initializing the cell state of the LSTM_cel\n",
    "    \n",
    "    Returns:\n",
    "    results -- numpy-array of shape (Ty, 90), matrix of one-hot vectors representing the values generated\n",
    "    indices -- numpy-array of shape (Ty, 1), matrix of indices representing the values generated\n",
    "    \"\"\"\n",
    "    \n",
    "    n_values = x_initializer.shape[2]\n",
    "    \n",
    "    ### START CODE HERE ###\n",
    "    # Step 1: Use your inference model to predict an output sequence given x_initializer, a_initializer and c_initializer.\n",
    "    pred = inference_model1.predict([x_initializer, a_initializer, c_initializer])\n",
    "    # Step 2: Convert \"pred\" into an np.array() of indices with the maximum probabilities\n",
    "    indices = np.argmax(pred, axis=-1)\n",
    "    # Step 3: Convert indices to one-hot vectors, the shape of the results should be (Ty, n_values)\n",
    "    results = to_categorical(indices, num_classes=x_initializer.shape[2])\n",
    "    ### END CODE HERE ###\n",
    "    \n",
    "    return results, indices"
   ]
  },
  {
   "cell_type": "markdown",
   "metadata": {},
   "source": [
    "## Sample using model 1 (no probability)"
   ]
  },
  {
   "cell_type": "code",
   "execution_count": null,
   "metadata": {},
   "outputs": [],
   "source": [
    "x_initializer = np.zeros((1, 1, n_values))\n",
    "a_initializer = np.zeros((1, n_a))\n",
    "c_initializer = np.zeros((1, n_a))"
   ]
  },
  {
   "cell_type": "code",
   "execution_count": null,
   "metadata": {
    "scrolled": false
   },
   "outputs": [],
   "source": [
    "results, indices = predict_and_sample1(inference_model1, x_initializer, a_initializer, c_initializer)\n",
    "\n",
    "#print(\"np.argmax(results[12]) =\", np.argmax(results[0]))\n",
    "#print(\"np.argmax(results[17]) =\", np.argmax(results[17]))\n",
    "#print(\"list(indices[12:18]) =\", list(indices[12:18]))\n",
    "\n",
    "# Transform the result to an actual sentence\n",
    "sample_sentence_words = [ix_to_word[int(index)] for index in list(indices)]\n",
    "sample_sentence = ' '.join(sample_sentence_words)\n",
    "sample_sentence = sample_sentence[0].upper() + sample_sentence[1:]\n",
    "print(sample_sentence)"
   ]
  },
  {
   "cell_type": "markdown",
   "metadata": {},
   "source": [
    "## Sampling Model 2: force 1st word"
   ]
  },
  {
   "cell_type": "markdown",
   "metadata": {},
   "source": [
    "We first define a model that uses each step prediction as the input for next step"
   ]
  },
  {
   "cell_type": "code",
   "execution_count": null,
   "metadata": {},
   "outputs": [],
   "source": [
    "def sentence_inference_model2(LSTM_cell, densor, Ty=30):\n",
    "    \"\"\"\n",
    "    Uses the trained \"LSTM_cell\" and \"densor\" from model() to generate a sequence of values.\n",
    "    \n",
    "    Arguments:\n",
    "    LSTM_cell -- the trained \"LSTM_cell\" from model(), Keras layer object\n",
    "    densor -- the trained \"densor\" from model(), Keras layer object\n",
    "    Ty -- integer, number of time steps to generate\n",
    "    \n",
    "    Returns:\n",
    "    inference_model -- Keras model instance\n",
    "    \"\"\"\n",
    "    \n",
    "    # Get the shape of input values\n",
    "    n_values = densor.units\n",
    "    # Get the number of the hidden state vector\n",
    "    n_a = LSTM_cell.units\n",
    "    \n",
    "    # Define the input of your model with a shape \n",
    "    x0 = Input(shape=(1, n_values))\n",
    "    x1 = Input(shape=(n_values))\n",
    "    \n",
    "    \n",
    "    # Define s0, initial hidden state for the decoder LSTM\n",
    "    a0 = Input(shape=(n_a,), name='a0')\n",
    "    c0 = Input(shape=(n_a,), name='c0')\n",
    "    a = a0\n",
    "    c = c0\n",
    "    x = x0\n",
    "\n",
    "    ### START CODE HERE ###\n",
    "    # Step 1: Create an empty list of \"outputs\" to later store your predicted values (≈1 line)\n",
    "    outputs = []\n",
    "    \n",
    "    # Step 2: Loop over Ty and generate a value at every time step\n",
    "    for t in range(Ty):\n",
    "        # Step 2.A: Perform one step of LSTM_cell. Use \"x\", not \"x0\" (≈1 line)\n",
    "        a, _, c = LSTM_cell(x, initial_state=[a,c])\n",
    "        \n",
    "        # Step 2.B: Apply Dense layer to the hidden state output of the LSTM_cell (≈1 line)\n",
    "        out = densor(a)\n",
    "        # Force first word to the one given\n",
    "        if t == 0:\n",
    "            out = tf.cast(x1, tf.int32)\n",
    "        # Step 2.C: Append the prediction \"out\" to \"outputs\". out.shape = (None, n_values) (≈1 line)\n",
    "        outputs.append(out)\n",
    " \n",
    "        # Step 2.D: \n",
    "        # Select the next value according to \"out\",\n",
    "        # Set \"x\" to be the one-hot representation of the selected value\n",
    "        # See instructions above.\n",
    "        x = tf.math.argmax(out, axis=-1)\n",
    "        x = tf.one_hot(x,n_values)\n",
    "        # Step 2.E: \n",
    "        # Use RepeatVector(1) to convert x into a tensor with shape=(None, 1, n_values)\n",
    "        x = RepeatVector(1)(x)\n",
    "        \n",
    "    # Step 3: Create model instance with the correct \"inputs\" and \"outputs\" (≈1 line)\n",
    "    inference_model = Model(inputs=[x0,x1,a0,c0], outputs=outputs)\n",
    "    \n",
    "    ### END CODE HERE ###\n",
    "    \n",
    "    return inference_model"
   ]
  },
  {
   "cell_type": "code",
   "execution_count": null,
   "metadata": {},
   "outputs": [],
   "source": [
    "inference_model2 = sentence_inference_model2(LSTM_cell, densor, Ty = 30)"
   ]
  },
  {
   "cell_type": "markdown",
   "metadata": {},
   "source": [
    "We use previous model to sample ('predict') a sequence"
   ]
  },
  {
   "cell_type": "code",
   "execution_count": null,
   "metadata": {},
   "outputs": [],
   "source": [
    "x_initializer = np.zeros((1, 1, n_values))\n",
    "x1 = np.zeros((1, n_values))\n",
    "a_initializer = np.zeros((1, n_a))\n",
    "c_initializer = np.zeros((1, n_a))"
   ]
  },
  {
   "cell_type": "code",
   "execution_count": null,
   "metadata": {},
   "outputs": [],
   "source": [
    "def predict_and_sample2(inference_model2, x_initializer = x_initializer, x1 = x1, a_initializer = a_initializer, \n",
    "                       c_initializer = c_initializer):\n",
    "    \"\"\"\n",
    "    Predicts the next value of values using the inference model.\n",
    "    \n",
    "    Arguments:\n",
    "    inference_model -- Keras model instance for inference time\n",
    "    x_initializer -- numpy array of shape (1, 1, n_values), one-hot vector initializing the values generation\n",
    "    a_initializer -- numpy array of shape (1, n_a), initializing the hidden state of the LSTM_cell\n",
    "    c_initializer -- numpy array of shape (1, n_a), initializing the cell state of the LSTM_cel\n",
    "    \n",
    "    Returns:\n",
    "    results -- numpy-array of shape (Ty, 90), matrix of one-hot vectors representing the values generated\n",
    "    indices -- numpy-array of shape (Ty, 1), matrix of indices representing the values generated\n",
    "    \"\"\"\n",
    "    \n",
    "    n_values = x_initializer.shape[2]\n",
    "    \n",
    "    ### START CODE HERE ###\n",
    "    # Step 1: Use your inference model to predict an output sequence given x_initializer, a_initializer and c_initializer.\n",
    "    pred = inference_model2.predict([x_initializer, x1, a_initializer, c_initializer])\n",
    "    # Step 2: Convert \"pred\" into an np.array() of indices with the maximum probabilities\n",
    "    indices = np.argmax(pred, axis=-1)\n",
    "    # Step 3: Convert indices to one-hot vectors, the shape of the results should be (Ty, n_values)\n",
    "    results = to_categorical(indices, num_classes=x_initializer.shape[2])\n",
    "    ### END CODE HERE ###\n",
    "    \n",
    "    return results, indices"
   ]
  },
  {
   "cell_type": "markdown",
   "metadata": {},
   "source": [
    "## Sample using model 2 (from a given word or taken at random)"
   ]
  },
  {
   "cell_type": "code",
   "execution_count": null,
   "metadata": {},
   "outputs": [],
   "source": [
    "x_initializer = np.zeros((1, 1, n_values))\n",
    "\n",
    "# Force first word\n",
    "init = np.zeros((1, n_values))\n",
    "init[0,word_to_ix['remove']] = 1\n",
    "x1 = init\n",
    "\n",
    "a_initializer = np.zeros((1, n_a))\n",
    "c_initializer = np.zeros((1, n_a))"
   ]
  },
  {
   "cell_type": "code",
   "execution_count": null,
   "metadata": {},
   "outputs": [],
   "source": [
    "x_initializer = np.zeros((1, 1, n_values))\n",
    "\n",
    "# Take first word at random\n",
    "init = np.zeros((1, n_values))\n",
    "random_word_index = np.random.choice(np.arange(n_values), p=first_word_freq)\n",
    "print(random_word_index, ix_to_word[random_word_index])\n",
    "\n",
    "init[0,random_word_index] = 1\n",
    "x1 = init\n",
    "\n",
    "a_initializer = np.zeros((1, n_a))\n",
    "c_initializer = np.zeros((1, n_a))"
   ]
  },
  {
   "cell_type": "code",
   "execution_count": null,
   "metadata": {
    "scrolled": true
   },
   "outputs": [],
   "source": [
    "results, indices = predict_and_sample2(inference_model2, x_initializer, x1, a_initializer, c_initializer)\n",
    "\n",
    "#print(\"np.argmax(results[12]) =\", np.argmax(results[0]))\n",
    "#print(\"np.argmax(results[17]) =\", np.argmax(results[17]))\n",
    "#print(\"list(indices[12:18]) =\", list(indices[12:18]))\n",
    "\n",
    "# Transform the result to an actual sentence\n",
    "sample_sentence_words = [ix_to_word[int(index)] for index in list(indices)]\n",
    "sample_sentence = ' '.join(sample_sentence_words)\n",
    "sample_sentence = sample_sentence[0].upper() + sample_sentence[1:]\n",
    "print(sample_sentence)"
   ]
  }
 ],
 "metadata": {
  "kernelspec": {
   "display_name": "Python 3",
   "language": "python",
   "name": "python3"
  },
  "language_info": {
   "codemirror_mode": {
    "name": "ipython",
    "version": 3
   },
   "file_extension": ".py",
   "mimetype": "text/x-python",
   "name": "python",
   "nbconvert_exporter": "python",
   "pygments_lexer": "ipython3",
   "version": "3.7.4"
  }
 },
 "nbformat": 4,
 "nbformat_minor": 2
}
