{
 "cells": [
  {
   "cell_type": "code",
   "execution_count": 1,
   "metadata": {},
   "outputs": [],
   "source": [
    "import pickle\n",
    "import numpy as np\n",
    "from collections import Counter\n",
    "from time import time"
   ]
  },
  {
   "cell_type": "code",
   "execution_count": 2,
   "metadata": {},
   "outputs": [],
   "source": [
    "with open('sentences_with_eos_and_unk.pkl', 'rb') as f:\n",
    "    sentences, counter = pickle.load(f)"
   ]
  },
  {
   "cell_type": "code",
   "execution_count": 39,
   "metadata": {},
   "outputs": [],
   "source": [
    "def shuffle_and_split_training_set(sentences_original, percentage_test=2):\n",
    "    # shuffle at unison\n",
    "    print('Shuffling sentences')\n",
    "\n",
    "    tmp_sentences = []\n",
    "    for i in np.random.RandomState(seed=0).permutation(len(sentences_original)):\n",
    "        tmp_sentences.append(sentences_original[i])\n",
    "\n",
    "    cut_index = int(len(sentences_original) * (1.-(percentage_test/100.)))\n",
    "    x_train, x_test = tmp_sentences[:cut_index], tmp_sentences[cut_index:]\n",
    "\n",
    "    print(\"Size of training set = %d\" % len(x_train))\n",
    "    print(\"Size of test set = %d\" % len(x_test))\n",
    "    return x_train, x_test"
   ]
  },
  {
   "cell_type": "code",
   "execution_count": 43,
   "metadata": {},
   "outputs": [
    {
     "name": "stdout",
     "output_type": "stream",
     "text": [
      "Shuffling sentences\n",
      "Size of training set = 221835\n",
      "Size of test set = 4528\n"
     ]
    }
   ],
   "source": [
    "sentences_train, sentences_test = shuffle_and_split_training_set(sentences)"
   ]
  },
  {
   "cell_type": "code",
   "execution_count": 44,
   "metadata": {},
   "outputs": [
    {
     "data": {
      "text/plain": [
       "['Put the clips part  part and part of the loom knoop hardness test value   channel B part  the loom HB2   channel B part and the No 2 starboard igniter lead part with the bolt part and the spacers part and part in position on the oil tube part and loosely install the nut part  <eos>',\n",
       " 'Put the clips part  part  part and part of the air tube part  the fuel tube part  the fuel tube part and the loom database part with the spacers part  part and part and the bolt part in position on the nut part attached to the bracket part  and loosely install the bolt part  <eos>',\n",
       " 'Make sure that the ignition lever part of the door damper part and the emergency opening actuator part is in the ARMED position  <eos>',\n",
       " 'You can use these pressurization sources as an alternative  or   <eos>',\n",
       " 'Disconnect the electrical connectors from the 115VAC EPDC2 temporary revision 1422XZ and the 230VAC EPDC2 temporary revision 1424XZ in module 2H   <eos>',\n",
       " 'Alodine 1500 mil <unk> <unk> <eos>',\n",
       " 'The transducer part <eos>',\n",
       " 'Remove the nuts part from the bolts part  <eos>',\n",
       " 'For the steps that follow the POLISHING KIT   MICRO MESH is necessary  <eos>',\n",
       " 'Loosen the nuts part of all the support struts part  <eos>',\n",
       " 'The Yellow left outboard aileron servocontrol  <eos>',\n",
       " 'The applicable lavatory occupied signs are removed   <eos>',\n",
       " 'Put the seals part in position on the left ottoman section part  the right ottoman section part and the upper coat stowage section part  <eos>',\n",
       " 'In the Status column wait for the status of the related content inventory list to show Load Complete   <eos>',\n",
       " 'Remove the nut part and the bolt part attached to the tube part  <eos>',\n",
       " 'Make sure that flap torque shaft assembly 5027CV part is removed   <eos>',\n",
       " 'It is possible to restore the avionics server function cabinet with the group 1 and amperes per square foot software components    only and then dispatch the aircraft under Master Minimum Equipment List MMEL condition <eos>',\n",
       " 'Bulk cargo compartment  <eos>',\n",
       " 'Re prime the center tank pumps   <eos>',\n",
       " 'If there is galling accept the upper interservices fairing  <eos>']"
      ]
     },
     "execution_count": 44,
     "metadata": {},
     "output_type": "execute_result"
    }
   ],
   "source": [
    "sentences_test[:20]"
   ]
  },
  {
   "cell_type": "code",
   "execution_count": 45,
   "metadata": {},
   "outputs": [],
   "source": [
    "with open('sentences_train_test.pkl', 'wb') as handle:\n",
    "    pickle.dump((sentences_train,sentences_test,counter), handle, protocol=pickle.HIGHEST_PROTOCOL)"
   ]
  }
 ],
 "metadata": {
  "kernelspec": {
   "display_name": "Python 3",
   "language": "python",
   "name": "python3"
  },
  "language_info": {
   "codemirror_mode": {
    "name": "ipython",
    "version": 3
   },
   "file_extension": ".py",
   "mimetype": "text/x-python",
   "name": "python",
   "nbconvert_exporter": "python",
   "pygments_lexer": "ipython3",
   "version": "3.7.4"
  }
 },
 "nbformat": 4,
 "nbformat_minor": 2
}
