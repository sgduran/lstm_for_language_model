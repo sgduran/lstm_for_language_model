{
 "cells": [
  {
   "cell_type": "code",
   "execution_count": 1,
   "metadata": {},
   "outputs": [],
   "source": [
    "import pickle\n",
    "import numpy as np\n",
    "from collections import Counter\n",
    "import pprint\n",
    "import copy"
   ]
  },
  {
   "cell_type": "code",
   "execution_count": 2,
   "metadata": {},
   "outputs": [],
   "source": [
    "with open('AMM_A350.pkl', 'rb') as f:\n",
    "    data = pickle.load(f)\n",
    "    \n",
    "#sentences = data['PARAfull'][:20]\n",
    "#data\n",
    "# 1226552 rows\n",
    "\n",
    "data = data[data['POStxt'].notna()]"
   ]
  },
  {
   "cell_type": "code",
   "execution_count": 3,
   "metadata": {},
   "outputs": [],
   "source": [
    "data[\"Count\"]=data.groupby(\"POStxt\")[\"POStxt\"].transform('count')\n",
    "data_reduced = data.drop_duplicates(['POStxt'])\n",
    "sentences = list(data_reduced['POStxt'])\n",
    "count = list(data_reduced['Count'])"
   ]
  },
  {
   "cell_type": "code",
   "execution_count": 4,
   "metadata": {},
   "outputs": [
    {
     "data": {
      "text/plain": [
       "226363"
      ]
     },
     "execution_count": 4,
     "metadata": {},
     "output_type": "execute_result"
    }
   ],
   "source": [
    "len(sentences)"
   ]
  },
  {
   "cell_type": "code",
   "execution_count": 79,
   "metadata": {},
   "outputs": [],
   "source": [
    "sentences = list(data_reduced['POStxt'])\n",
    "counter = Counter([])\n",
    "for i in range(len(sentences)):\n",
    "        sentences[i] = sentences[i] + ' <eos>'\n",
    "        counter += Counter(sentences[i].lower().split())\n",
    "        \n",
    "# Or use this command:\n",
    "#with open('sentences_with_eos.pkl', 'rb') as f:\n",
    "#    sentences, counter = pickle.load(f)"
   ]
  },
  {
   "cell_type": "code",
   "execution_count": 86,
   "metadata": {},
   "outputs": [
    {
     "name": "stdout",
     "output_type": "stream",
     "text": [
      "7274\n",
      "0.0\n"
     ]
    }
   ],
   "source": [
    "# Count number of keys with more than n appearances\n",
    "n = 1\n",
    "print( sum(counter[a] > n for a in counter.keys()) )\n",
    "\n",
    "# Count proportion of words that we eliminate if we remove the one-time appearance words\n",
    "print(sum(counter[a] == 1 for a in counter.keys()) / num_of_words)"
   ]
  },
  {
   "cell_type": "code",
   "execution_count": 6,
   "metadata": {},
   "outputs": [
    {
     "name": "stdout",
     "output_type": "stream",
     "text": [
      "There are 18890 unique words in our dataset.\n",
      "There are 3380789 total words in our dataset.\n"
     ]
    }
   ],
   "source": [
    "vocab = sorted(counter.keys())\n",
    "vocab_size = len(vocab)\n",
    "print('There are %d unique words in our dataset.' % vocab_size)\n",
    "num_of_words = sum(counter.values())#sum( [counter[k] for k in counter.keys()] )\n",
    "print('There are %d total words in our dataset.' % num_of_words)"
   ]
  },
  {
   "cell_type": "code",
   "execution_count": 80,
   "metadata": {},
   "outputs": [
    {
     "name": "stdout",
     "output_type": "stream",
     "text": [
      "There are 11617 words appearing less than 5 times.\n",
      "It represents 22510 words we eliminate, i.e., 0.67%  of all words.\n"
     ]
    }
   ],
   "source": [
    "# Count number of removed words (unique and with repetitions) with less than n appearances\n",
    "n = 5\n",
    "\n",
    "removed_unique_words = 0\n",
    "removed_total_words = 0\n",
    "for a in counter.keys():\n",
    "    if counter[a] <= n:\n",
    "        removed_unique_words +=1\n",
    "        removed_total_words += counter[a]\n",
    "\n",
    "print('There are %d words appearing less than %d times.' %(removed_unique_words,n))\n",
    "print('It represents %d words we eliminate, i.e., %.2f%%  of all words.' %(removed_total_words, (removed_total_words/num_of_words) * 100 ))"
   ]
  },
  {
   "cell_type": "code",
   "execution_count": 81,
   "metadata": {},
   "outputs": [],
   "source": [
    "def preprocess_unk_words(sentences,counter,n):\n",
    "    new_counter = counter\n",
    "    for i in range(len(sentences)):\n",
    "            sent_list = sentences[i].lower().split()\n",
    "            for j in range(len(sent_list)):\n",
    "                if counter[sent_list[j]] <= n:\n",
    "                    new_counter.pop(sent_list[j], None)\n",
    "                    sent_list[j] = '<unk>'\n",
    "                    new_counter['<unk>'] += 1\n",
    "                    sentences[i] = ' '.join(sent_list)\n",
    "                    sentences[i] = sentences[i][0].upper() + sentences[i][1:]\n",
    "    return (sentences, new_counter)"
   ]
  },
  {
   "cell_type": "code",
   "execution_count": 82,
   "metadata": {},
   "outputs": [],
   "source": [
    "sentences, counter = preprocess_unk_words(sentences,counter,5)"
   ]
  },
  {
   "cell_type": "code",
   "execution_count": 83,
   "metadata": {},
   "outputs": [
    {
     "name": "stdout",
     "output_type": "stream",
     "text": [
      "There are 7274 unique words in our dataset.\n",
      "There are 3380789 total words in our dataset.\n"
     ]
    }
   ],
   "source": [
    "vocab = sorted(counter.keys())\n",
    "vocab_size = len(vocab)\n",
    "print('There are %d unique words in our dataset.' % vocab_size)\n",
    "num_of_words = sum(counter.values())#sum( [counter[k] for k in counter.keys()] )\n",
    "print('There are %d total words in our dataset.' % num_of_words)"
   ]
  },
  {
   "cell_type": "code",
   "execution_count": 85,
   "metadata": {},
   "outputs": [],
   "source": [
    "with open('sentences_with_eos_and_unk.pkl', 'wb') as handle:\n",
    "    pickle.dump((sentences,counter), handle, protocol=pickle.HIGHEST_PROTOCOL)"
   ]
  }
 ],
 "metadata": {
  "kernelspec": {
   "display_name": "Python 3",
   "language": "python",
   "name": "python3"
  },
  "language_info": {
   "codemirror_mode": {
    "name": "ipython",
    "version": 3
   },
   "file_extension": ".py",
   "mimetype": "text/x-python",
   "name": "python",
   "nbconvert_exporter": "python",
   "pygments_lexer": "ipython3",
   "version": "3.7.4"
  },
  "toc": {
   "base_numbering": 1,
   "nav_menu": {},
   "number_sections": true,
   "sideBar": true,
   "skip_h1_title": false,
   "title_cell": "Table of Contents",
   "title_sidebar": "Contents",
   "toc_cell": false,
   "toc_position": {},
   "toc_section_display": true,
   "toc_window_display": false
  },
  "varInspector": {
   "cols": {
    "lenName": 16,
    "lenType": 16,
    "lenVar": 40
   },
   "kernels_config": {
    "python": {
     "delete_cmd_postfix": "",
     "delete_cmd_prefix": "del ",
     "library": "var_list.py",
     "varRefreshCmd": "print(var_dic_list())"
    },
    "r": {
     "delete_cmd_postfix": ") ",
     "delete_cmd_prefix": "rm(",
     "library": "var_list.r",
     "varRefreshCmd": "cat(var_dic_list()) "
    }
   },
   "types_to_exclude": [
    "module",
    "function",
    "builtin_function_or_method",
    "instance",
    "_Feature"
   ],
   "window_display": false
  }
 },
 "nbformat": 4,
 "nbformat_minor": 2
}
